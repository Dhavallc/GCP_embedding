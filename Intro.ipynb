{
 "cells": [
  {
   "cell_type": "code",
   "execution_count": null,
   "id": "b8141f2a",
   "metadata": {},
   "outputs": [],
   "source": [
    "from util import authenticate, create_project\n",
    "credentials, project_id = authenticate()\n",
    "print(\"Authenticated with project:\", project_id)\n",
    "\n"
   ]
  },
  {
   "cell_type": "code",
   "execution_count": null,
   "id": "9f8b6448",
   "metadata": {},
   "outputs": [],
   "source": [
    "from util import authenticate\n",
    "credentials, PROJECT_ID = authenticate() # Get credentials and project ID"
   ]
  },
  {
   "cell_type": "code",
   "execution_count": null,
   "id": "d41a3fef",
   "metadata": {},
   "outputs": [],
   "source": [
    "print(PROJECT_ID)"
   ]
  },
  {
   "cell_type": "code",
   "execution_count": null,
   "id": "08f285a9",
   "metadata": {},
   "outputs": [],
   "source": [
    "REGION='us-central1'"
   ]
  },
  {
   "cell_type": "code",
   "execution_count": null,
   "id": "5feff8a6",
   "metadata": {},
   "outputs": [],
   "source": [
    "print(REGION)"
   ]
  },
  {
   "cell_type": "code",
   "execution_count": null,
   "id": "50a2fb71",
   "metadata": {},
   "outputs": [],
   "source": [
    "import vertexai"
   ]
  },
  {
   "cell_type": "code",
   "execution_count": null,
   "id": "a521dffe",
   "metadata": {},
   "outputs": [],
   "source": [
    "vertexai.init(project = PROJECT_ID, \n",
    "              location = REGION, \n",
    "              credentials = credentials)"
   ]
  },
  {
   "cell_type": "code",
   "execution_count": null,
   "id": "6189e520",
   "metadata": {},
   "outputs": [],
   "source": [
    "from google.auth.transport.requests import requests\n",
    "from google.oauth2.service_account import Credentials"
   ]
  },
  {
   "cell_type": "code",
   "execution_count": null,
   "id": "918973b5",
   "metadata": {},
   "outputs": [],
   "source": [
    "from google.cloud import aiplatform\n",
    "\n",
    "aiplatform.init(project=PROJECT_ID, location=REGION)\n",
    "\n",
    "endpoints = aiplatform.Endpoint.list()\n",
    "for ep in endpoints:\n",
    "    print(f\"Endpoint: {ep.display_name} | ID: {ep.resource_name}\")"
   ]
  },
  {
   "cell_type": "code",
   "execution_count": null,
   "id": "f515e40d",
   "metadata": {},
   "outputs": [],
   "source": [
    "key_path='watchful-slice-456007-i3-3d1046f9e5c5.json'"
   ]
  },
  {
   "cell_type": "code",
   "execution_count": null,
   "id": "a6bf08e1",
   "metadata": {},
   "outputs": [],
   "source": [
    "print(credentials)"
   ]
  },
  {
   "cell_type": "code",
   "execution_count": null,
   "id": "a8edde0c",
   "metadata": {},
   "outputs": [],
   "source": [
    "\n",
    "credentials = Credentials.from_service_account_file(\n",
    "    key_path,\n",
    "    scopes=['https://www.googleapis.com/auth/cloud-platform'])\n",
    "\n",
    "if credentials.expired:\n",
    "    credentials.refresh(Request())\n",
    "print(credentials)"
   ]
  },
  {
   "cell_type": "code",
   "execution_count": null,
   "id": "822b72e7",
   "metadata": {},
   "outputs": [],
   "source": [
    "from vertexai.language_models import TextEmbeddingModel"
   ]
  },
  {
   "cell_type": "code",
   "execution_count": null,
   "id": "a6c9c164",
   "metadata": {},
   "outputs": [],
   "source": [
    "embedding_model = TextEmbeddingModel.from_pretrained('text-embedding-005')"
   ]
  },
  {
   "cell_type": "code",
   "execution_count": null,
   "id": "d5a7cd53",
   "metadata": {},
   "outputs": [],
   "source": [
    "embedding_1 = embedding_model.get_embeddings([\"The sun is shining and the sky is clear.\"])"
   ]
  },
  {
   "cell_type": "code",
   "execution_count": null,
   "id": "52fbfaf2",
   "metadata": {},
   "outputs": [],
   "source": [
    "embedding_2 = embedding_model.get_embeddings([\"No, I don’t love wasting my time in pointless meetings.\"])"
   ]
  },
  {
   "cell_type": "code",
   "execution_count": null,
   "id": "ae5137c8",
   "metadata": {},
   "outputs": [],
   "source": [
    "embedding_3 = embedding_model.get_embeddings([\"There are no clouds in sight.\"])"
   ]
  },
  {
   "cell_type": "code",
   "execution_count": null,
   "id": "196adac3",
   "metadata": {},
   "outputs": [],
   "source": [
    "vector = embedding_1[0].values\n",
    "print(f\"Length = {len(vector)}\")\n",
    "print(vector[:10])"
   ]
  },
  {
   "cell_type": "code",
   "execution_count": null,
   "id": "6857f281",
   "metadata": {},
   "outputs": [],
   "source": [
    "from sklearn.metrics.pairwise import cosine_similarity"
   ]
  },
  {
   "cell_type": "code",
   "execution_count": null,
   "id": "365d51bd",
   "metadata": {},
   "outputs": [],
   "source": [
    "pip install scikit-learn"
   ]
  },
  {
   "cell_type": "code",
   "execution_count": null,
   "id": "ccff9c5a",
   "metadata": {},
   "outputs": [],
   "source": [
    "pip show scikit-learn"
   ]
  },
  {
   "cell_type": "code",
   "execution_count": null,
   "id": "f9599a4c",
   "metadata": {},
   "outputs": [],
   "source": [
    "vec_1 = [embedding_1[0].values]\n",
    "vec_2 = [embedding_2[0].values]\n",
    "vec_3 = [embedding_3[0].values]\n",
    "print(cosine_similarity(vec_1,vec_2))\n",
    "print(cosine_similarity(vec_2,vec_3))\n",
    "print(cosine_similarity(vec_1,vec_3))"
   ]
  },
  {
   "cell_type": "code",
   "execution_count": null,
   "id": "a6a1b88c",
   "metadata": {},
   "outputs": [],
   "source": [
    "in_1 = \"The kids play in the park.\"\n",
    "in_2 = \"The play was for kids in the park.\""
   ]
  },
  {
   "cell_type": "code",
   "execution_count": null,
   "id": "3fe97b6e",
   "metadata": {},
   "outputs": [],
   "source": [
    "in_pp_1 = [\"kids\", \"play\", \"park\"]\n",
    "in_pp_2 = [\"play\", \"kids\", \"park\"]"
   ]
  },
  {
   "cell_type": "code",
   "execution_count": null,
   "id": "c00af777",
   "metadata": {},
   "outputs": [],
   "source": [
    "embeddings_1 = [emb.values for emb in embedding_model.get_embeddings(in_pp_1)]"
   ]
  },
  {
   "cell_type": "code",
   "execution_count": null,
   "id": "0853aaab",
   "metadata": {},
   "outputs": [],
   "source": [
    "import numpy as np\n",
    "emb_array_1 = np.stack(embeddings_1)\n",
    "print(emb_array_1.shape)"
   ]
  },
  {
   "cell_type": "code",
   "execution_count": null,
   "id": "f0999fa2",
   "metadata": {},
   "outputs": [],
   "source": [
    "embeddings_2 = [emb.values for emb in embedding_model.get_embeddings(in_pp_2)]\n",
    "emb_array_2 = np.stack(embeddings_2)\n",
    "print(emb_array_2.shape)"
   ]
  },
  {
   "cell_type": "code",
   "execution_count": null,
   "id": "10055c20",
   "metadata": {},
   "outputs": [],
   "source": [
    "emb_1_mean = emb_array_1.mean(axis=0)\n",
    "print(emb_1_mean.shape)"
   ]
  },
  {
   "cell_type": "code",
   "execution_count": null,
   "id": "cd88eb95",
   "metadata": {},
   "outputs": [],
   "source": [
    "emb_2_mean = emb_array_2.mean(axis = 0)"
   ]
  },
  {
   "cell_type": "code",
   "execution_count": null,
   "id": "ff577750",
   "metadata": {},
   "outputs": [],
   "source": [
    "print(emb_1_mean[:4])\n",
    "print(emb_2_mean[:4])"
   ]
  },
  {
   "cell_type": "code",
   "execution_count": null,
   "id": "2fde35af",
   "metadata": {},
   "outputs": [],
   "source": [
    "embedding_1 = embedding_model.get_embeddings([in_1])\n",
    "embedding_2 = embedding_model.get_embeddings([in_2])"
   ]
  },
  {
   "cell_type": "code",
   "execution_count": null,
   "id": "588371fa",
   "metadata": {},
   "outputs": [],
   "source": [
    "vector_1 = embedding_1[0].values\n",
    "print(vector_1[:4])\n",
    "vector_2 = embedding_2[0].values\n",
    "print(vector_2[:4])"
   ]
  },
  {
   "cell_type": "code",
   "execution_count": null,
   "id": "74d282fe",
   "metadata": {},
   "outputs": [],
   "source": [
    "# ##GEMINI\n",
    "# from vertexai.preview.language_models import TextEmbeddingModel\n",
    "# model = TextEmbeddingModel.from_pretrained(\"gemini-embedding-exp-03-07\")\n",
    "\n",
    "# sentences = [\n",
    "#     \"The cat sat on the mat.\",\n",
    "#     \"A feline rested on a rug.\",\n",
    "#     \"The stock market crashed yesterday.\"\n",
    "# ]\n",
    "\n",
    "# # Get embeddings\n",
    "# responses = model.get_embeddings(sentences)\n",
    "# vectors = [r.values for r in responses]\n",
    "\n",
    "# # Convert to numpy\n",
    "# vectors = np.array(vectors)\n",
    "\n",
    "# # Cosine similarity\n",
    "# similarity = cosine_similarity(vectors)\n",
    "# print(\"Cosine similarity matrix:\\n\", similarity)"
   ]
  },
  {
   "cell_type": "code",
   "execution_count": null,
   "id": "817ec062",
   "metadata": {},
   "outputs": [],
   "source": []
  }
 ],
 "metadata": {
  "kernelspec": {
   "display_name": "venv",
   "language": "python",
   "name": "python3"
  },
  "language_info": {
   "codemirror_mode": {
    "name": "ipython",
    "version": 3
   },
   "file_extension": ".py",
   "mimetype": "text/x-python",
   "name": "python",
   "nbconvert_exporter": "python",
   "pygments_lexer": "ipython3",
   "version": "3.12.4"
  }
 },
 "nbformat": 4,
 "nbformat_minor": 5
}
